{
  "nbformat": 4,
  "nbformat_minor": 0,
  "metadata": {
    "colab": {
      "provenance": [],
      "authorship_tag": "ABX9TyPOGX26f3FTzEzgHT+Xq2w0",
      "include_colab_link": true
    },
    "kernelspec": {
      "name": "python3",
      "display_name": "Python 3"
    },
    "language_info": {
      "name": "python"
    }
  },
  "cells": [
    {
      "cell_type": "markdown",
      "metadata": {
        "id": "view-in-github",
        "colab_type": "text"
      },
      "source": [
        "<a href=\"https://colab.research.google.com/github/IMRANALI25/Agentic-AI-Practice/blob/main/code_interpreter_agent.ipynb\" target=\"_parent\"><img src=\"https://colab.research.google.com/assets/colab-badge.svg\" alt=\"Open In Colab\"/></a>"
      ]
    },
    {
      "cell_type": "markdown",
      "source": [
        "# 🚀 Exploring the openai-agents Library with Gemini\n",
        "# 📦 Installation"
      ],
      "metadata": {
        "id": "Q90LMobhjEv7"
      }
    },
    {
      "cell_type": "code",
      "source": [
        "!pip install -Uq openai-agents"
      ],
      "metadata": {
        "colab": {
          "base_uri": "https://localhost:8080/"
        },
        "id": "tnb5SvA-jMF6",
        "outputId": "a318a2ab-1d1e-46b2-8e37-d0e7afebd111"
      },
      "execution_count": 1,
      "outputs": [
        {
          "output_type": "stream",
          "name": "stdout",
          "text": [
            "\u001b[2K     \u001b[90m━━━━━━━━━━━━━━━━━━━━━━━━━━━━━━━━━━━━━━━━\u001b[0m \u001b[32m68.7/68.7 kB\u001b[0m \u001b[31m3.8 MB/s\u001b[0m eta \u001b[36m0:00:00\u001b[0m\n",
            "\u001b[2K   \u001b[90m━━━━━━━━━━━━━━━━━━━━━━━━━━━━━━━━━━━━━━━━\u001b[0m \u001b[32m168.5/168.5 kB\u001b[0m \u001b[31m10.8 MB/s\u001b[0m eta \u001b[36m0:00:00\u001b[0m\n",
            "\u001b[2K   \u001b[90m━━━━━━━━━━━━━━━━━━━━━━━━━━━━━━━━━━━━━━━━\u001b[0m \u001b[32m138.9/138.9 kB\u001b[0m \u001b[31m10.8 MB/s\u001b[0m eta \u001b[36m0:00:00\u001b[0m\n",
            "\u001b[2K   \u001b[90m━━━━━━━━━━━━━━━━━━━━━━━━━━━━━━━━━━━━━━━━\u001b[0m \u001b[32m160.2/160.2 kB\u001b[0m \u001b[31m13.5 MB/s\u001b[0m eta \u001b[36m0:00:00\u001b[0m\n",
            "\u001b[2K   \u001b[90m━━━━━━━━━━━━━━━━━━━━━━━━━━━━━━━━━━━━━━━━\u001b[0m \u001b[32m45.2/45.2 kB\u001b[0m \u001b[31m3.5 MB/s\u001b[0m eta \u001b[36m0:00:00\u001b[0m\n",
            "\u001b[?25h"
          ]
        }
      ]
    },
    {
      "cell_type": "markdown",
      "source": [
        "# 🔐 Imports Libraries if using Google Colab"
      ],
      "metadata": {
        "id": "4i4kXMN_jXjb"
      }
    },
    {
      "cell_type": "code",
      "execution_count": 4,
      "metadata": {
        "id": "WNj-bZNYi0rY"
      },
      "outputs": [],
      "source": [
        "from agents import Agent, Runner, OpenAIChatCompletionsModel, set_tracing_disabled\n",
        "from openai import AsyncOpenAI\n",
        "import nest_asyncio"
      ]
    },
    {
      "cell_type": "markdown",
      "source": [
        "# Call nest_asyncio"
      ],
      "metadata": {
        "id": "RpljoI-PkTQa"
      }
    },
    {
      "cell_type": "code",
      "source": [
        "nest_asyncio.apply()"
      ],
      "metadata": {
        "id": "eqmymj4-jz9X"
      },
      "execution_count": 5,
      "outputs": []
    },
    {
      "cell_type": "markdown",
      "source": [
        "# 🔐 Step 1: Setup for Api Keys"
      ],
      "metadata": {
        "id": "qBwynlHUkdwK"
      }
    },
    {
      "cell_type": "code",
      "source": [
        "from google.colab import userdata\n",
        "gemini_api_key = userdata.get(\"GEMINI_API_KEY\")"
      ],
      "metadata": {
        "id": "fmS06QGJkW5q"
      },
      "execution_count": 6,
      "outputs": []
    },
    {
      "cell_type": "markdown",
      "source": [
        "#🌐 Step 2: Client Setup for Connecting to Gemini\n",
        "##🔎 Tracing Disabled"
      ],
      "metadata": {
        "id": "iM52YwGRlIr5"
      }
    },
    {
      "cell_type": "code",
      "source": [
        "set_tracing_disabled(disabled=True)"
      ],
      "metadata": {
        "id": "PTAUi0RMlEYk"
      },
      "execution_count": 7,
      "outputs": []
    },
    {
      "cell_type": "markdown",
      "source": [
        "## ⚙️ Initialize LLM Service"
      ],
      "metadata": {
        "id": "kBInbOrzmHso"
      }
    },
    {
      "cell_type": "code",
      "source": [
        "client: AsyncOpenAI = AsyncOpenAI(api_key = gemini_api_key, base_url=\"https://generativelanguage.googleapis.com/v1beta/openai/\")"
      ],
      "metadata": {
        "id": "ZUjmDCkblQH4"
      },
      "execution_count": 8,
      "outputs": []
    },
    {
      "cell_type": "markdown",
      "source": [
        "## 🎲 Initialize LLM Model"
      ],
      "metadata": {
        "id": "GwjY-e2Tm-sv"
      }
    },
    {
      "cell_type": "code",
      "source": [
        "model: OpenAIChatCompletionsModel= OpenAIChatCompletionsModel(openai_client = client, model=\"gemini-2.5-flash\")"
      ],
      "metadata": {
        "id": "3bdWyM5wm0iK"
      },
      "execution_count": 9,
      "outputs": []
    },
    {
      "cell_type": "markdown",
      "source": [
        "#🕵🏽 Create Agents"
      ],
      "metadata": {
        "id": "vePFV4xNnhG3"
      }
    },
    {
      "cell_type": "code",
      "source": [
        "python_code_interpreter: Agent = Agent(name=\"Python Code Interpreter\", instructions=\"\"\"You are a robust Python Code Interpreter. \"\"\", model = model)"
      ],
      "metadata": {
        "id": "a2j6eF6Qngdy"
      },
      "execution_count": 10,
      "outputs": []
    },
    {
      "cell_type": "markdown",
      "source": [
        "# 🏃Running Agent Asynchronously"
      ],
      "metadata": {
        "id": "qwLaklPMpxHt"
      }
    },
    {
      "cell_type": "code",
      "source": [
        "async def get_workFlow_static_analysis():\n",
        "  result: Runner = await Runner.run( starting_agent = python_code_interpreter, input=\"\"\"\n",
        "                                      Generate workflow/algorithm with labelled block diagrams as an Output from given Python code.\n",
        "                                      Also, generate static analysis of this given code.\n",
        "                                      Generate separate Outputs for workflow/algorithm and static analysis.\n",
        "                                      The output report must be nicely formatted.\n",
        "                                      The Python Code is within the square bracket.\n",
        "                                       [\n",
        "                                        import random\n",
        "                                        def generate_math_table_python():\n",
        "\n",
        "\n",
        "                                            random_number = random.randint(1, 100)\n",
        "\n",
        "                                            print(\"-\" * 40)\n",
        "                                            print(f\"       MATH TABLE for {random_number}\")\n",
        "                                            print(\"-\" * 40)\n",
        "\n",
        "                                            for i in range(1, 31):\n",
        "                                                product = random_number * i\n",
        "                                                print(f\"{random_number:4} x {i:2} = {product:6}\")\n",
        "\n",
        "                                            print(\"-\" * 40)\n",
        "\n",
        "                                        # Call the function to execute the program\n",
        "                                        if __name__ == \"__main__\":\n",
        "                                            generate_math_table_python()\n",
        "                                       ] \"\"\")\n",
        "  print(\"\\n\\n Generating Workflows/Algorithm and Static Analysis Report...\\n\\n\")\n",
        "  print(result.final_output)"
      ],
      "metadata": {
        "id": "sI5dJYGwpzac"
      },
      "execution_count": 15,
      "outputs": []
    },
    {
      "cell_type": "markdown",
      "source": [
        "# 💡Call get_workFlow_static_analysis() method"
      ],
      "metadata": {
        "id": "T4_3N64asM2C"
      }
    },
    {
      "cell_type": "code",
      "source": [
        "import asyncio\n",
        "asyncio.run(get_workFlow_static_analysis())"
      ],
      "metadata": {
        "colab": {
          "base_uri": "https://localhost:8080/"
        },
        "id": "eDfjKmXQsNtm",
        "outputId": "c75bfdb0-71a8-4582-9204-25dba1e73ad4"
      },
      "execution_count": 16,
      "outputs": [
        {
          "output_type": "stream",
          "name": "stdout",
          "text": [
            "\n",
            "\n",
            " Generating Workflows/Algorithm and Static Analysis Report...\n",
            "\n",
            "\n",
            "Here are the requested workflow/algorithm with labelled block diagrams and static analysis for the given Python code.\n",
            "\n",
            "---\n",
            "\n",
            "### **1. Workflow/Algorithm with Labelled Block Diagrams**\n",
            "\n",
            "This section outlines the step-by-step execution flow of the provided Python code using a textual block diagram representation.\n",
            "\n",
            "```\n",
            "+------------------------------------+\n",
            "|               START                |\n",
            "|       (Program Execution)          |\n",
            "+-------------------+----------------+\n",
            "                    |\n",
            "                    v\n",
            "+-------------------+----------------+\n",
            "|  DEFINE FUNCTION                   |\n",
            "|  `generate_math_table_python()`    |\n",
            "|  (Contains the core logic)         |\n",
            "+-------------------+----------------+\n",
            "                    |\n",
            "                    v\n",
            "+-------------------+----------------+\n",
            "|   CHECK ENTRY POINT                |\n",
            "|   `if __name__ == \"__main__\":`    |\n",
            "|   (Ensures function call only on   |\n",
            "|    direct script execution)        |\n",
            "+-------------------+----------------+\n",
            "          | (True)\n",
            "          v\n",
            "+-------------------+----------------+\n",
            "|   CALL FUNCTION                    |\n",
            "|   `generate_math_table_python()`   |\n",
            "+-------------------+----------------+\n",
            "          |\n",
            "          v\n",
            "+------------------------------------+\n",
            "|   INSIDE `generate_math_table_python()` |\n",
            "|                                    |\n",
            "|   1. GENERATE RANDOM NUMBER        |\n",
            "|      `random_number = random.randint(1, 100)` |\n",
            "|                                    |\n",
            "|   2. PRINT HEADER LINES            |\n",
            "|      (Separator, Title with random_number, Separator) |\n",
            "|                                    |\n",
            "|   3. LOOP (i from 1 to 30)         |\n",
            "|      +-------------------------+   |\n",
            "|      |  a. CALCULATE PRODUCT   |<--+\n",
            "|      |     `product = random_number * i` |\n",
            "|      |                           |   |\n",
            "|      |  b. PRINT RESULT LINE     |   |\n",
            "|      |     (e.g., \"5 x 1 = 5\")   |   |\n",
            "|      +-------------------------+   |\n",
            "|         (Repeat 30 times)          |\n",
            "|                                    |\n",
            "|   4. PRINT FOOTER LINE             |\n",
            "|      (Another separator)           |\n",
            "+-------------------+----------------+\n",
            "                    |\n",
            "                    v\n",
            "+------------------------------------+\n",
            "|                END                 |\n",
            "|       (Program Terminates)         |\n",
            "+------------------------------------+\n",
            "```\n",
            "\n",
            "---\n",
            "\n",
            "### **2. Static Analysis**\n",
            "\n",
            "This section provides a detailed static analysis of the given Python code, examining its structure, potential issues, maintainability, and other characteristics without executing it.\n",
            "\n",
            "---\n",
            "\n",
            "**A. General Information**\n",
            "\n",
            "*   **File Name (Implied):** `math_table_generator.py` (or similar)\n",
            "*   **Purpose:** Generates and prints a multiplication table for a randomly chosen number between 1 and 100, up to 30 multiples.\n",
            "*   **Python Version Compatibility:** Python 3.x\n",
            "\n",
            "---\n",
            "\n",
            "**B. Code Structure & Organization**\n",
            "\n",
            "1.  **Modules Imported:** `random`\n",
            "    *   Used for generating a pseudo-random integer.\n",
            "2.  **Functions Defined:** `generate_math_table_python()`\n",
            "    *   Encapsulates the entire logic for generating and printing the table.\n",
            "3.  **Main Execution Block:** `if __name__ == \"__main__\":`\n",
            "    *   Standard Python idiom to ensure that `generate_math_table_python()` is called only when the script is executed directly, not when imported as a module.\n",
            "\n",
            "---\n",
            "\n",
            "**C. Variable Analysis**\n",
            "\n",
            "1.  **`random_number`**:\n",
            "    *   **Type:** `int`\n",
            "    *   **Scope:** Local to `generate_math_table_python()`\n",
            "    *   **Initialization:** Assigned a random integer between 1 and 100 (inclusive) using `random.randint()`.\n",
            "    *   **Usage:** Used as the base number for the multiplication table.\n",
            "2.  **`i`**:\n",
            "    *   **Type:** `int`\n",
            "    *   **Scope:** Local to the `for` loop within `generate_math_table_python()`.\n",
            "    *   **Initialization:** Iterates from 1 up to (but not including) 31, representing the multiplier.\n",
            "    *   **Usage:** Used as the multiplier in each iteration.\n",
            "3.  **`product`**:\n",
            "    *   **Type:** `int`\n",
            "    *   **Scope:** Local to the `for` loop within `generate_math_table_python()`.\n",
            "    *   **Initialization:** Calculated as `random_number * i` in each iteration.\n",
            "    *   **Usage:** Stores the result of the multiplication.\n",
            "\n",
            "---\n",
            "\n",
            "**D. Input/Output (I/O) Operations**\n",
            "\n",
            "1.  **Input:** None. The script does not take any input from the user or external files.\n",
            "2.  **Output:** Standard output (console) via `print()` statements.\n",
            "    *   Prints a formatted header and footer using `\"-\" * 40`.\n",
            "    *   Prints the multiplication table lines in the format `\"{random_number} x {i} = {product}\"`.\n",
            "    *   Uses f-strings for clear and concise formatting.\n",
            "    *   Uses format specifiers (`:4`, `:2`, `:6`) for consistent column alignment.\n",
            "\n",
            "---\n",
            "\n",
            "**E. Control Flow Analysis**\n",
            "\n",
            "1.  **Sequence:** Statements are executed sequentially within the function and the loop.\n",
            "2.  **Iteration (Loop):** A `for` loop iterates 30 times (`range(1, 31)`). This is a fixed number of iterations, making the execution time predictable.\n",
            "3.  **Conditional:** The `if __name__ == \"__main__\":` block acts as a conditional gate for program execution.\n",
            "\n",
            "---\n",
            "\n",
            "**F. Error Handling**\n",
            "\n",
            "*   **Explicit Error Handling:** None. The code does not include `try-except` blocks.\n",
            "*   **Potential Issues (Minimal):**\n",
            "    *   The `random` module is highly reliable.\n",
            "    *   Integer arithmetic (`*`) is robust.\n",
            "    *   The `print` function is generally robust.\n",
            "    *   No external dependencies or user inputs that could easily lead to runtime errors.\n",
            "\n",
            "---\n",
            "\n",
            "**G. Code Quality & Maintainability**\n",
            "\n",
            "1.  **Readability:** High.\n",
            "    *   Descriptive function and variable names (`generate_math_table_python`, `random_number`, `product`).\n",
            "    *   Clear f-string formatting.\n",
            "    *   Consistent indentation.\n",
            "2.  **Modularity:** Good. The core logic is encapsulated in a single function, making it reusable (though not explicitly designed for import and reuse in this form due to direct `print` statements).\n",
            "3.  **Comments/Docstrings:**\n",
            "    *   Missing a docstring for the `generate_math_table_python` function, which would improve documentation for API users.\n",
            "    *   No inline comments, but the code is simple enough that they are not strictly necessary.\n",
            "4.  **PEP 8 Compliance:** Generally good. Minor style suggestions could be:\n",
            "    *   Adding a docstring for the function.\n",
            "    *   Perhaps adding a blank line before `random_number = ...` for logical separation, though current spacing is acceptable.\n",
            "\n",
            "---\n",
            "\n",
            "**H. Performance Characteristics**\n",
            "\n",
            "*   **Time Complexity:** O(1) (Constant Time) from a macro perspective because the loop runs a fixed number of times (30 iterations), irrespective of any input size.\n",
            "    *   More precisely, O(N) where N is the number of multiples printed (here, N=30). Since N is a constant, it effectively becomes O(1).\n",
            "*   **Space Complexity:** O(1) (Constant Space). Only a few variables are stored in memory, and their memory footprint does not grow with any input.\n",
            "\n",
            "---\n",
            "\n",
            "**I. Security Considerations**\n",
            "\n",
            "*   **Vulnerabilities:** None identified.\n",
            "    *   No external inputs that could be malicious.\n",
            "    *   No file operations or network communication.\n",
            "    *   No sensitive data processing.\n",
            "\n",
            "---\n",
            "\n",
            "**J. Conclusion**\n",
            "\n",
            "The provided Python code is a well-structured, clear, and efficient script for its intended purpose. It demonstrates good practices for basic program organization (function encapsulation, `if __name__ == \"__main__\":` guard) and output formatting. Its simplicity means it has very few potential points of failure or areas for performance optimization, making it highly robust for its task. The only minor improvement would be to add a docstring for better documentation.\n"
          ]
        }
      ]
    },
    {
      "cell_type": "code",
      "source": [],
      "metadata": {
        "id": "PnozjIaztTDZ"
      },
      "execution_count": null,
      "outputs": []
    }
  ]
}