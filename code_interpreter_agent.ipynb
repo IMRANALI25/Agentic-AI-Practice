{
  "nbformat": 4,
  "nbformat_minor": 0,
  "metadata": {
    "colab": {
      "provenance": [],
      "authorship_tag": "ABX9TyO9e3ogxv8NuxeUjvTQ2Hda",
      "include_colab_link": true
    },
    "kernelspec": {
      "name": "python3",
      "display_name": "Python 3"
    },
    "language_info": {
      "name": "python"
    }
  },
  "cells": [
    {
      "cell_type": "markdown",
      "metadata": {
        "id": "view-in-github",
        "colab_type": "text"
      },
      "source": [
        "<a href=\"https://colab.research.google.com/github/IMRANALI25/Agentic-AI-Practice/blob/main/code_interpreter_agent.ipynb\" target=\"_parent\"><img src=\"https://colab.research.google.com/assets/colab-badge.svg\" alt=\"Open In Colab\"/></a>"
      ]
    },
    {
      "cell_type": "markdown",
      "source": [
        "# 🚀 Exploring the openai-agents Library with Gemini\n",
        "# 📦 Installation"
      ],
      "metadata": {
        "id": "Q90LMobhjEv7"
      }
    },
    {
      "cell_type": "code",
      "source": [
        "!pip install -Uq openai-agents"
      ],
      "metadata": {
        "colab": {
          "base_uri": "https://localhost:8080/"
        },
        "id": "tnb5SvA-jMF6",
        "outputId": "a318a2ab-1d1e-46b2-8e37-d0e7afebd111"
      },
      "execution_count": 1,
      "outputs": [
        {
          "output_type": "stream",
          "name": "stdout",
          "text": [
            "\u001b[2K     \u001b[90m━━━━━━━━━━━━━━━━━━━━━━━━━━━━━━━━━━━━━━━━\u001b[0m \u001b[32m68.7/68.7 kB\u001b[0m \u001b[31m3.8 MB/s\u001b[0m eta \u001b[36m0:00:00\u001b[0m\n",
            "\u001b[2K   \u001b[90m━━━━━━━━━━━━━━━━━━━━━━━━━━━━━━━━━━━━━━━━\u001b[0m \u001b[32m168.5/168.5 kB\u001b[0m \u001b[31m10.8 MB/s\u001b[0m eta \u001b[36m0:00:00\u001b[0m\n",
            "\u001b[2K   \u001b[90m━━━━━━━━━━━━━━━━━━━━━━━━━━━━━━━━━━━━━━━━\u001b[0m \u001b[32m138.9/138.9 kB\u001b[0m \u001b[31m10.8 MB/s\u001b[0m eta \u001b[36m0:00:00\u001b[0m\n",
            "\u001b[2K   \u001b[90m━━━━━━━━━━━━━━━━━━━━━━━━━━━━━━━━━━━━━━━━\u001b[0m \u001b[32m160.2/160.2 kB\u001b[0m \u001b[31m13.5 MB/s\u001b[0m eta \u001b[36m0:00:00\u001b[0m\n",
            "\u001b[2K   \u001b[90m━━━━━━━━━━━━━━━━━━━━━━━━━━━━━━━━━━━━━━━━\u001b[0m \u001b[32m45.2/45.2 kB\u001b[0m \u001b[31m3.5 MB/s\u001b[0m eta \u001b[36m0:00:00\u001b[0m\n",
            "\u001b[?25h"
          ]
        }
      ]
    },
    {
      "cell_type": "markdown",
      "source": [
        "# 🔐 Imports Libraries if using Google Colab"
      ],
      "metadata": {
        "id": "4i4kXMN_jXjb"
      }
    },
    {
      "cell_type": "code",
      "execution_count": 4,
      "metadata": {
        "id": "WNj-bZNYi0rY"
      },
      "outputs": [],
      "source": [
        "from agents import Agent, Runner, OpenAIChatCompletionsModel, set_tracing_disabled\n",
        "from openai import AsyncOpenAI\n",
        "import nest_asyncio"
      ]
    },
    {
      "cell_type": "markdown",
      "source": [
        "# Call nest_asyncio"
      ],
      "metadata": {
        "id": "RpljoI-PkTQa"
      }
    },
    {
      "cell_type": "code",
      "source": [
        "nest_asyncio.apply()"
      ],
      "metadata": {
        "id": "eqmymj4-jz9X"
      },
      "execution_count": 5,
      "outputs": []
    },
    {
      "cell_type": "markdown",
      "source": [
        "# 🔐 Step 1: Setup for Api Keys"
      ],
      "metadata": {
        "id": "qBwynlHUkdwK"
      }
    },
    {
      "cell_type": "code",
      "source": [
        "from google.colab import userdata\n",
        "gemini_api_key = userdata.get(\"GEMINI_API_KEY\")"
      ],
      "metadata": {
        "id": "fmS06QGJkW5q"
      },
      "execution_count": 6,
      "outputs": []
    },
    {
      "cell_type": "markdown",
      "source": [
        "#🌐 Step 2: Client Setup for Connecting to Gemini\n",
        "##🔎 Tracing Disabled"
      ],
      "metadata": {
        "id": "iM52YwGRlIr5"
      }
    },
    {
      "cell_type": "code",
      "source": [
        "set_tracing_disabled(disabled=True)"
      ],
      "metadata": {
        "id": "PTAUi0RMlEYk"
      },
      "execution_count": 7,
      "outputs": []
    },
    {
      "cell_type": "markdown",
      "source": [
        "## ⚙️ Initialize LLM Service"
      ],
      "metadata": {
        "id": "kBInbOrzmHso"
      }
    },
    {
      "cell_type": "code",
      "source": [
        "client: AsyncOpenAI = AsyncOpenAI(api_key = gemini_api_key, base_url=\"https://generativelanguage.googleapis.com/v1beta/openai/\")"
      ],
      "metadata": {
        "id": "ZUjmDCkblQH4"
      },
      "execution_count": 8,
      "outputs": []
    },
    {
      "cell_type": "markdown",
      "source": [
        "## 🎲 Initialize LLM Model"
      ],
      "metadata": {
        "id": "GwjY-e2Tm-sv"
      }
    },
    {
      "cell_type": "code",
      "source": [
        "model: OpenAIChatCompletionsModel= OpenAIChatCompletionsModel(openai_client = client, model=\"gemini-2.5-flash\")"
      ],
      "metadata": {
        "id": "3bdWyM5wm0iK"
      },
      "execution_count": 9,
      "outputs": []
    },
    {
      "cell_type": "markdown",
      "source": [
        "#🕵🏽 Create Agents"
      ],
      "metadata": {
        "id": "vePFV4xNnhG3"
      }
    },
    {
      "cell_type": "code",
      "source": [
        "python_code_interpreter: Agent = Agent(name=\"Python Code Interpreter\", instructions=\"\"\"You are a robust Python Code Interpreter. \"\"\", model = model)"
      ],
      "metadata": {
        "id": "a2j6eF6Qngdy"
      },
      "execution_count": 10,
      "outputs": []
    },
    {
      "cell_type": "markdown",
      "source": [
        "# 🏃Running Agent Asynchronously"
      ],
      "metadata": {
        "id": "qwLaklPMpxHt"
      }
    },
    {
      "cell_type": "code",
      "source": [
        "async def get_workFlow_static_analysis():\n",
        "  result: Runner = await Runner.run( starting_agent = python_code_interpreter, input=\"\"\"\n",
        "                                      Generate workflow/algorithm with labelled 2D and 3D both block diagrams as an Output from given Python code.\n",
        "                                      Also, generate static analysis Report of this given code.\n",
        "                                      Generate separate Outputs for workflow/algorithm and static analysis.\n",
        "                                      The output report must be nicely formatted.\n",
        "                                      The Python Code is within the square bracket.\n",
        "                                       [\n",
        "                                        import random\n",
        "                                        def generate_math_table_python():\n",
        "\n",
        "\n",
        "                                            random_number = random.randint(1, 100)\n",
        "\n",
        "                                            print(\"-\" * 40)\n",
        "                                            print(f\"       MATH TABLE for {random_number}\")\n",
        "                                            print(\"-\" * 40)\n",
        "\n",
        "                                            for i in range(1, 31):\n",
        "                                                product = random_number * i\n",
        "                                                print(f\"{random_number:4} x {i:2} = {product:6}\")\n",
        "\n",
        "                                            print(\"-\" * 40)\n",
        "\n",
        "                                        # Call the function to execute the program\n",
        "                                        if __name__ == \"__main__\":\n",
        "                                            generate_math_table_python()\n",
        "                                       ] \"\"\")\n",
        "  print(\"\\n\\n Generating Workflows/Algorithm and Static Analysis Report...\\n\\n\")\n",
        "  print(result.final_output)"
      ],
      "metadata": {
        "id": "sI5dJYGwpzac"
      },
      "execution_count": 19,
      "outputs": []
    },
    {
      "cell_type": "markdown",
      "source": [
        "# 💡Call get_workFlow_static_analysis() method"
      ],
      "metadata": {
        "id": "T4_3N64asM2C"
      }
    },
    {
      "cell_type": "code",
      "source": [
        "import asyncio\n",
        "asyncio.run(get_workFlow_static_analysis())"
      ],
      "metadata": {
        "colab": {
          "base_uri": "https://localhost:8080/"
        },
        "id": "eDfjKmXQsNtm",
        "outputId": "1e643f1d-7719-4464-e33e-3c1236330418"
      },
      "execution_count": 20,
      "outputs": [
        {
          "output_type": "stream",
          "name": "stdout",
          "text": [
            "\n",
            "\n",
            " Generating Workflows/Algorithm and Static Analysis Report...\n",
            "\n",
            "\n",
            "Here are the requested outputs based on the provided Python code.\n",
            "\n",
            "---\n",
            "\n",
            "## Workflow/Algorithm and Block Diagrams\n",
            "\n",
            "The Python code generates a multiplication table for a randomly chosen number between 1 and 100, displaying products from 1 to 30 times the random number.\n",
            "\n",
            "### Algorithm Description\n",
            "\n",
            "1.  **Start:** Begin program execution.\n",
            "2.  **Initialize Function:** Define the `generate_math_table_python` function.\n",
            "3.  **Generate Random Number:** Inside the function, select a random integer between 1 and 100 (inclusive) and store it.\n",
            "4.  **Print Header:** Display a formatted header indicating the random number for which the table is being generated.\n",
            "5.  **Loop Initialization:** Start a loop that iterates from 1 up to 30 (inclusive).\n",
            "6.  **Calculate Product:** In each iteration, multiply the random number by the current loop iteration variable.\n",
            "7.  **Print Row:** Display the multiplication expression and its calculated product in a formatted manner.\n",
            "8.  **Loop Continuation:** Continue to the next iteration if the loop has not completed.\n",
            "9.  **Print Footer:** After the loop finishes, display a formatted footer line.\n",
            "10. **End Function:** The `generate_math_table_python` function completes execution.\n",
            "11. **Main Execution Check:** Check if the script is being run as the main program.\n",
            "12. **Call Function:** If it is the main program, call the `generate_math_table_python` function.\n",
            "13. **End:** Program execution terminates.\n",
            "\n",
            "### 2D Block Diagram\n",
            "\n",
            "```\n",
            "+---------------------+\n",
            "|        START        |\n",
            "+----------+----------+\n",
            "           |\n",
            "           v\n",
            "+---------------------+\n",
            "| DEFINE FUNCTION     |\n",
            "| generate_math_table |\n",
            "|       _python       |\n",
            "+----------+----------+\n",
            "           |\n",
            "           v\n",
            "+---------------------+\n",
            "| GENERATE RANDOM     |\n",
            "| NUMBER (1-100)      |\n",
            "|  (random_number)    |\n",
            "+----------+----------+\n",
            "           |\n",
            "           v\n",
            "+---------------------+\n",
            "|    PRINT TABLE      |\n",
            "|       HEADER        |\n",
            "+----------+----------+\n",
            "           |\n",
            "           v\n",
            "+----------+----------+\n",
            "|  LOOP for i in      |\n",
            "|     range(1, 31)    |\n",
            "| (i.e., i from 1 to 30)|\n",
            "+----------+----------+\n",
            "           |\n",
            "           v\n",
            "     +-----Yes-----+\n",
            "     |             |\n",
            "     v             |\n",
            "+---------------------+\n",
            "|   CALCULATE PRODUCT |\n",
            "| (product = random_number * i)|\n",
            "+----------+----------+\n",
            "           |\n",
            "           v\n",
            "+---------------------+\n",
            "|      PRINT ROW      |\n",
            "|  (e.g., N x I = P)  |\n",
            "+----------+----------+\n",
            "           |\n",
            "           v\n",
            "+----------No---------+\n",
            "|    LOOP END?        |\n",
            "+----------+----------+\n",
            "           | Yes\n",
            "           v\n",
            "+---------------------+\n",
            "|    PRINT TABLE      |\n",
            "|       FOOTER        |\n",
            "+----------+----------+\n",
            "           |\n",
            "           v\n",
            "+---------------------+\n",
            "|     END FUNCTION    |\n",
            "+----------+----------+\n",
            "           |\n",
            "           v\n",
            "+---------------------+\n",
            "|  IS __name__ ==     |\n",
            "|     \"__main__\"?     |\n",
            "+----------+----------+\n",
            "           | Yes\n",
            "           v\n",
            "+---------------------+\n",
            "|  CALL FUNCTION:     |\n",
            "| generate_math_table |\n",
            "|       _python()     |\n",
            "+----------+----------+\n",
            "           |\n",
            "           v\n",
            "+---------------------+\n",
            "|         END         |\n",
            "+---------------------+\n",
            "```\n",
            "\n",
            "### 3D Block Diagram (Conceptual Representation)\n",
            "\n",
            "This section describes the blocks and their flow conceptually, imagining a 3D rendering.\n",
            "\n",
            "```\n",
            "       [START]\n",
            "     (Extruded Oval)\n",
            "            |\n",
            "            V\n",
            "   [DEFINE FUNCTION]\n",
            "   (Elevated Rectangular Prism -\n",
            "    represents a container for logic)\n",
            "            |\n",
            "            V\n",
            "   [GENERATE RANDOM NUMBER (1-100)]\n",
            "   (A thick, transparent block, showing the random\n",
            "    choice within)\n",
            "            |\n",
            "            V\n",
            "   [PRINT TABLE HEADER]\n",
            "   (A flat, wide plate, implying output display)\n",
            "            |\n",
            "            V\n",
            "   [LOOP (i from 1 to 30)]\n",
            "   (A cylindrical drum, indicating repetitive processing.\n",
            "    The arrows spiral around it to show iteration.)\n",
            "            |\n",
            "            V (Enters Loop Body)\n",
            "    [CALCULATE PRODUCT]\n",
            "    (A smaller, active cube, representing computation)\n",
            "            |\n",
            "            V\n",
            "    [PRINT ROW]\n",
            "    (Another flat plate, for each line of output)\n",
            "            |\n",
            "            V (Loop Back or Exit)\n",
            "    [DECISION: LOOP END?]\n",
            "    (A diamond shape, slightly raised, with two paths:\n",
            "     one returning to 'CALCULATE PRODUCT', one exiting)\n",
            "            |\n",
            "            V (Exits Loop)\n",
            "   [PRINT TABLE FOOTER]\n",
            "   (Similar to header, another flat plate for final output)\n",
            "            |\n",
            "            V\n",
            "   [END FUNCTION]\n",
            "   (A block returning to the main program flow)\n",
            "            |\n",
            "            V\n",
            "   [IS __name__ == \"__main__\"?]\n",
            "   (A larger, prominent diamond, representing the program's\n",
            "    entry point decision)\n",
            "            |\n",
            "            V (If True)\n",
            "   [CALL generate_math_table_python()]\n",
            "   (A button-like, pressable cylinder, indicating an action trigger)\n",
            "            |\n",
            "            V\n",
            "       [END]\n",
            "     (Extruded Oval - mirrors the START block)\n",
            "```\n",
            "\n",
            "---\n",
            "\n",
            "## Static Analysis Report\n",
            "\n",
            "### Project Overview\n",
            "\n",
            "*   **Project Name:** Math Table Generator\n",
            "*   **Purpose:** To generate and display a multiplication table for a randomly selected number.\n",
            "*   **Language:** Python 3.x\n",
            "*   **Lines of Code (LOC):**\n",
            "    *   Total: 21\n",
            "    *   Executable: 14\n",
            "    *   Comments/Empty: 7\n",
            "\n",
            "### Code Structure Analysis\n",
            "\n",
            "*   **Modules:** The code consists of a single Python file.\n",
            "*   **Functions:**\n",
            "    *   `generate_math_table_python()`: The primary function responsible for the core logic.\n",
            "*   **Global Scope:** Only the import statement for `random` and the `if __name__ == \"__main__\":` block exist at the global level, which is good practice.\n",
            "\n",
            "### Detailed Function Analysis: `generate_math_table_python()`\n",
            "\n",
            "*   **Purpose:** Generates a multiplication table for a random number (1-100) up to 30 times.\n",
            "*   **Parameters:** None\n",
            "*   **Return Value:** None (prints directly to console)\n",
            "*   **Variables Used:**\n",
            "    *   `random_number`: An integer generated randomly between 1 and 100.\n",
            "    *   `i`: Loop counter, integer from 1 to 30.\n",
            "    *   `product`: Integer result of `random_number * i`.\n",
            "*   **External Dependencies:** `random` module (for `random.randint`).\n",
            "*   **Control Flow:**\n",
            "    *   Sequential execution for setup and printing.\n",
            "    *   A `for` loop iterates 30 times to generate table rows.\n",
            "*   **Input/Output:**\n",
            "    *   **Input:** Implicit random number generation; no user input.\n",
            "    *   **Output:** Prints formatted strings to the console (table header, each row, and footer).\n",
            "\n",
            "### Complexity Analysis\n",
            "\n",
            "*   **Time Complexity:** O(1) - The loop runs a fixed number of times (30 iterations), irrespective of any input size. Thus, the execution time is constant relative to any external factors.\n",
            "*   **Space Complexity:** O(1) - The memory usage remains constant, as it only stores a few variables (`random_number`, `i`, `product`), regardless of the table's fixed size.\n",
            "\n",
            "### Readability and Maintainability\n",
            "\n",
            "*   **Readability:**\n",
            "    *   **Clarity:** The code is very clear and easy to understand. Variable names are descriptive (`random_number`, `product`).\n",
            "    *   **Formatting:** Consistent indentation and spacing enhance readability.\n",
            "    *   **Comments:** Minimal but sufficient given the self-explanatory nature of the code.\n",
            "*   **Maintainability:**\n",
            "    *   **Modularity:** The core logic is encapsulated within a function, making it reusable and testable (though it has no direct parameters or return values).\n",
            "    *   **Flexibility:** The range of the table (1 to 30) and the random number range (1 to 100) are hardcoded. To increase flexibility, these could be made function parameters.\n",
            "    *   **Error Handling:** No explicit error handling is present, but none is strictly necessary for this simple program (e.g., no external file I/O or user input that could fail).\n",
            "\n",
            "### Potential Improvements\n",
            "\n",
            "1.  **Parameterize Function:** To make the function more versatile, parameters could be added for:\n",
            "    *   `min_num`, `max_num`: To specify the range for the random number.\n",
            "    *   `start_multiplier`, `end_multiplier`: To specify the range for the multiplication table (e.g., `range(1, 31)` could become `range(start_multiplier, end_multiplier + 1)`).\n",
            "    *   `number_to_use`: An optional parameter to use a specific number instead of a random one.\n",
            "2.  **Return Value:** Instead of printing directly, the function could return a list of strings or a structured data type (e.g., a list of tuples) representing the table, allowing the caller more control over how to display or use the data.\n",
            "3.  **Docstrings:** Add a docstring to the function to explain its purpose, arguments, and what it does.\n",
            "\n",
            "### Security Considerations\n",
            "\n",
            "*   **Low Risk:** This code poses very low security risks.\n",
            "    *   No external inputs from users that could be malicious.\n",
            "    *   No file system interactions.\n",
            "    *   No network communications.\n",
            "    *   No sensitive data processing.\n",
            "\n",
            "### Conclusion\n",
            "\n",
            "The provided Python code is a well-structured, clear, and efficient script for its intended purpose. It demonstrates good foundational programming practices, such as function encapsulation and use of standard libraries. While highly functional as is, minor enhancements could improve its flexibility and adherence to advanced software engineering principles like explicit return values and parameterization.\n"
          ]
        }
      ]
    },
    {
      "cell_type": "code",
      "source": [],
      "metadata": {
        "id": "PnozjIaztTDZ"
      },
      "execution_count": null,
      "outputs": []
    }
  ]
}