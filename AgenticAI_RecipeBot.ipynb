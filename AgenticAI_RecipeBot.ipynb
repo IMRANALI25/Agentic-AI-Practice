{
  "nbformat": 4,
  "nbformat_minor": 0,
  "metadata": {
    "colab": {
      "provenance": [],
      "authorship_tag": "ABX9TyP7RlLFbSL4vfdiPfw7Tv7O",
      "include_colab_link": true
    },
    "kernelspec": {
      "name": "python3",
      "display_name": "Python 3"
    },
    "language_info": {
      "name": "python"
    }
  },
  "cells": [
    {
      "cell_type": "markdown",
      "metadata": {
        "id": "view-in-github",
        "colab_type": "text"
      },
      "source": [
        "<a href=\"https://colab.research.google.com/github/IMRANALI25/Agentic-AI-Practice/blob/main/AgenticAI_RecipeBot.ipynb\" target=\"_parent\"><img src=\"https://colab.research.google.com/assets/colab-badge.svg\" alt=\"Open In Colab\"/></a>"
      ]
    },
    {
      "cell_type": "markdown",
      "source": [
        "# 🍔🍗 My Custom Recipe Bot 🥞🥗\n"
      ],
      "metadata": {
        "id": "1Zrz3YpzZ6lC"
      }
    },
    {
      "cell_type": "markdown",
      "source": [
        "#🪂 Exploring the openai-agents Library with Gemini"
      ],
      "metadata": {
        "id": "jZmnvgy9heqE"
      }
    },
    {
      "cell_type": "markdown",
      "source": [
        "# ⏳ Installation"
      ],
      "metadata": {
        "id": "8r0Ps9SRjTdq"
      }
    },
    {
      "cell_type": "code",
      "source": [
        "!pip install -Uq openai-agents"
      ],
      "metadata": {
        "colab": {
          "base_uri": "https://localhost:8080/"
        },
        "id": "9yckyHUbaAcs",
        "outputId": "16f64ac8-8f38-4da9-b123-e6edb9a01fba"
      },
      "execution_count": null,
      "outputs": [
        {
          "output_type": "stream",
          "name": "stdout",
          "text": [
            "\u001b[2K     \u001b[90m━━━━━━━━━━━━━━━━━━━━━━━━━━━━━━━━━━━━━━━━\u001b[0m \u001b[32m61.0/61.0 kB\u001b[0m \u001b[31m2.3 MB/s\u001b[0m eta \u001b[36m0:00:00\u001b[0m\n",
            "\u001b[2K   \u001b[90m━━━━━━━━━━━━━━━━━━━━━━━━━━━━━━━━━━━━━━━━\u001b[0m \u001b[32m164.3/164.3 kB\u001b[0m \u001b[31m7.0 MB/s\u001b[0m eta \u001b[36m0:00:00\u001b[0m\n",
            "\u001b[2K   \u001b[90m━━━━━━━━━━━━━━━━━━━━━━━━━━━━━━━━━━━━━━━━\u001b[0m \u001b[32m137.1/137.1 kB\u001b[0m \u001b[31m9.7 MB/s\u001b[0m eta \u001b[36m0:00:00\u001b[0m\n",
            "\u001b[2K   \u001b[90m━━━━━━━━━━━━━━━━━━━━━━━━━━━━━━━━━━━━━━━━\u001b[0m \u001b[32m158.8/158.8 kB\u001b[0m \u001b[31m10.8 MB/s\u001b[0m eta \u001b[36m0:00:00\u001b[0m\n",
            "\u001b[2K   \u001b[90m━━━━━━━━━━━━━━━━━━━━━━━━━━━━━━━━━━━━━━━━\u001b[0m \u001b[32m45.2/45.2 kB\u001b[0m \u001b[31m3.0 MB/s\u001b[0m eta \u001b[36m0:00:00\u001b[0m\n",
            "\u001b[?25h"
          ]
        }
      ]
    },
    {
      "cell_type": "markdown",
      "source": [
        "# 🟩 Import Nest AsyncIO"
      ],
      "metadata": {
        "id": "FY5GvLX8jWiC"
      }
    },
    {
      "cell_type": "code",
      "source": [
        "import nest_asyncio\n",
        "nest_asyncio.apply()"
      ],
      "metadata": {
        "id": "xFE4KoFOjfTq"
      },
      "execution_count": null,
      "outputs": []
    },
    {
      "cell_type": "markdown",
      "source": [
        "# 🕵🏽 Import Agent"
      ],
      "metadata": {
        "id": "tB0h0Uk_jgQi"
      }
    },
    {
      "cell_type": "code",
      "source": [
        "from agents import Agent, Runner, AsyncOpenAI, OpenAIChatCompletionsModel, set_tracing_disabled"
      ],
      "metadata": {
        "id": "u9FjnhnNmOaK"
      },
      "execution_count": null,
      "outputs": []
    },
    {
      "cell_type": "markdown",
      "source": [
        "# 🔑 Setup for Gemini API Key"
      ],
      "metadata": {
        "id": "rH1tKUQij7ba"
      }
    },
    {
      "cell_type": "markdown",
      "source": [
        "## 🗝️ First Copy the Key from Google AI Studio"
      ],
      "metadata": {
        "id": "v3QU2nrKnaJn"
      }
    },
    {
      "cell_type": "markdown",
      "source": [
        "## 👨🏽‍💻Import userdata from colab"
      ],
      "metadata": {
        "id": "8E6mOr-RntEW"
      }
    },
    {
      "cell_type": "code",
      "source": [
        "from google.colab import userdata"
      ],
      "metadata": {
        "id": "t1G-ISE4j_xC"
      },
      "execution_count": null,
      "outputs": []
    },
    {
      "cell_type": "markdown",
      "source": [
        "## 🟰 Assign Gemini API Key to variable"
      ],
      "metadata": {
        "id": "F57SXHLNoO-u"
      }
    },
    {
      "cell_type": "code",
      "source": [
        "gemini_api_key = userdata.get(\"GEMINI_API_KEY\")"
      ],
      "metadata": {
        "id": "8KeAZjocnLkw"
      },
      "execution_count": null,
      "outputs": []
    },
    {
      "cell_type": "markdown",
      "source": [
        "# 🌎 Client Setup for Connecting to Gemini"
      ],
      "metadata": {
        "id": "kIMNRsp9o2h9"
      }
    },
    {
      "cell_type": "markdown",
      "source": [
        "## 🔎Tracing Disabled"
      ],
      "metadata": {
        "id": "rYEujyXEpQn9"
      }
    },
    {
      "cell_type": "code",
      "source": [
        "set_tracing_disabled(disabled=True)"
      ],
      "metadata": {
        "id": "XsOBHFYhoXlH"
      },
      "execution_count": null,
      "outputs": []
    },
    {
      "cell_type": "markdown",
      "source": [
        "## ⚙️Initialize LLM Service"
      ],
      "metadata": {
        "id": "tj3DWwwspUkd"
      }
    },
    {
      "cell_type": "code",
      "source": [
        "openai_client: AsyncOpenAI = AsyncOpenAI(api_key = gemini_api_key,\n",
        "                                      base_url = \"https://generativelanguage.googleapis.com/v1beta/openai/\",)"
      ],
      "metadata": {
        "id": "OX6T8OKlpapF"
      },
      "execution_count": null,
      "outputs": []
    },
    {
      "cell_type": "markdown",
      "source": [
        "## 🎲 Initialize LLM Model"
      ],
      "metadata": {
        "id": "lJPKOKimpbu1"
      }
    },
    {
      "cell_type": "code",
      "source": [
        "llm_model: OpenAIChatCompletionsModel= OpenAIChatCompletionsModel(\n",
        "    openai_client=openai_client,\n",
        "    model=\"gemini-2.5-flash\",\n",
        ")\n"
      ],
      "metadata": {
        "id": "zXNMbM9OpfVF"
      },
      "execution_count": null,
      "outputs": []
    },
    {
      "cell_type": "markdown",
      "source": [
        "# 🏃Running Agent Synchronously"
      ],
      "metadata": {
        "id": "0tvMUD-Esh8y"
      }
    },
    {
      "cell_type": "code",
      "source": [
        "def main():\n",
        "  agent = Agent(\n",
        "      name = \"RecipeBot\",\n",
        "      instructions = (\"\"\"\n",
        "      This is the robust Recipe Assistant. Able to cook any type of dish around th world's bes cuisine.\n",
        "      Client will provide his/her chosen ingredients to make a dish.\n",
        "      Only use those ingrdients to complete a dish.\n",
        "      The suggested recipe should be simple and quick so that any novice and beginner person can easily cook.\n",
        "      Provide detail step by step guide of cooking procedure.\n",
        "      \"\"\"),\n",
        "      model = llm_model,\n",
        "  )\n",
        "\n",
        "  print(\"\\n🥣 What can I cook🍲 today?\\n\")\n",
        "  ingredients = \"meat, fish, prawns , oil, egg, butter, honey, broccoli, buns, onion, tomatoes, cabbage, cheese\"\n",
        "\n",
        "  result: Runner = Runner.run_sync(agent,\n",
        "                                   f\" There is the list of ingredients that I have already, {ingredients}, what are the recipes, at least two, for mouth watering dishes\")\n",
        "  print(result.final_output)"
      ],
      "metadata": {
        "id": "XtOq6CW_sb0F"
      },
      "execution_count": null,
      "outputs": []
    },
    {
      "cell_type": "markdown",
      "source": [
        "# 💡Call main() method"
      ],
      "metadata": {
        "id": "fhoorOq6xdmP"
      }
    },
    {
      "cell_type": "code",
      "source": [
        "if __name__ == \"__main__\":\n",
        "  main()"
      ],
      "metadata": {
        "colab": {
          "base_uri": "https://localhost:8080/"
        },
        "id": "vlY0g4jY0alK",
        "outputId": "907c5fa8-2a1d-48ad-9bba-c213d3c9df4a"
      },
      "execution_count": null,
      "outputs": [
        {
          "output_type": "stream",
          "name": "stdout",
          "text": [
            "\n",
            "🥣 What can I cook🍲 today?\n",
            "\n",
            "Here are two simple, quick, and mouth-watering recipes using only the ingredients you have on hand. These dishes are designed to be easy for anyone to cook, even if you're just starting out in the kitchen!\n",
            "\n",
            "---\n",
            "\n",
            "### Recipe 1: Zesty Honey Garlic Prawn & Broccoli Skillet\n",
            "\n",
            "This vibrant dish is packed with flavor, quick to make, and perfect for a light yet satisfying meal.\n",
            "\n",
            "**Yields:** 2 servings\n",
            "**Prep time:** 10 minutes\n",
            "**Cook time:** 10-15 minutes\n",
            "\n",
            "**Ingredients You'll Need:**\n",
            "\n",
            "*   Prawns (around 200-250g, peeled and deveined if not already)\n",
            "*   1 head Broccoli, cut into bite-sized florets\n",
            "*   1/2 Onion, thinly sliced\n",
            "*   1/2 Tomato, diced (optional, for extra color and tang)\n",
            "*   A few Cabbage leaves, shredded (optional, for added crunch)\n",
            "*   2 tablespoons Oil (vegetable or any cooking oil)\n",
            "*   1 tablespoon Butter\n",
            "*   1-2 tablespoons Honey (adjust to your sweetness preference)\n",
            "*   Salt and Pepper to taste (basic seasonings always assumed for flavor)\n",
            "*   Buns, for serving (optional, to soak up the sauce)\n",
            "\n",
            "**Equipment:**\n",
            "\n",
            "*   Large skillet or frying pan\n",
            "*   Spatula or cooking spoon\n",
            "\n",
            "**Step-by-Step Cooking Procedure:**\n",
            "\n",
            "1.  **Prepare Your Ingredients:**\n",
            "    *   If your prawns aren't peeled and deveined, do that first. Pat them dry with a paper towel.\n",
            "    *   Wash and cut the broccoli into small florets.\n",
            "    *   Peel and thinly slice your half onion.\n",
            "    *   Dice the tomato and shred the cabbage if you're using them.\n",
            "\n",
            "2.  **Heat the Pan:**\n",
            "    *   Place a large skillet or frying pan over medium-high heat. Add 1 tablespoon of **oil** and 1 tablespoon of **butter**. Let the butter melt and the oil shimmer.\n",
            "\n",
            "3.  **Sauté the Aromatics & Veggies:**\n",
            "    *   Add the **sliced onion** to the hot pan. Sauté for 2-3 minutes until it starts to soften and become translucent.\n",
            "    *   Add the **broccoli florets** to the pan. Continue to stir-fry for 5-7 minutes, stirring occasionally, until the broccoli is tender-crisp and bright green. If it looks too dry, you can add a tiny splash of water (about 1-2 tablespoons) and cover the pan for a minute to steam it slightly.\n",
            "\n",
            "4.  **Cook the Prawns:**\n",
            "    *   Push the vegetables to one side of the pan. Add the **prawns** to the empty side of the pan. Cook for 2-3 minutes per side, or until they turn pink and opaque. Don't overcook them, or they'll become rubbery!\n",
            "\n",
            "5.  **Add Honey & Optional Veggies:**\n",
            "    *   Once the prawns are cooked, stir them together with the vegetables.\n",
            "    *   Pour in the **honey**. Stir everything well to coat the prawns and vegetables in a light glaze.\n",
            "    *   If you're using them, add the **diced tomatoes** and **shredded cabbage** now, and toss for another minute until they are slightly warmed through but still have some crunch.\n",
            "\n",
            "6.  **Season and Serve:**\n",
            "    *   Season the dish generously with **salt** and **pepper** to your liking. Taste and adjust if needed.\n",
            "    *   Serve the Zesty Honey Garlic Prawn & Broccoli Skillet immediately. You can serve it as is, or with the **buns** on the side to soak up any delicious pan juices. Enjoy!\n",
            "\n",
            "---\n",
            "\n",
            "### Recipe 2: Cheesy Meat & Veggie Melts on Toasted Buns\n",
            "\n",
            "This recipe transforms simple ingredients into a comforting and hearty \"melt\" that's perfect for a quick lunch or dinner. You can use meat or fish for the protein base.\n",
            "\n",
            "**Yields:** 2 servings\n",
            "**Prep time:** 10 minutes\n",
            "**Cook time:** 10-15 minutes\n",
            "\n",
            "**Ingredients You'll Need:**\n",
            "\n",
            "*   200-250g Meat (e.g., ground meat, or thinly sliced meat that can be finely chopped/minced) OR Fish (e.g., firm white fish fillet, cut into small pieces)\n",
            "*   2 Buns (any kind, e.g., burger buns, sub rolls)\n",
            "*   2 slices Cheese (any type, cheddar, mozzarella, or a mix)\n",
            "*   1 large Egg\n",
            "*   1/2 Onion, thinly sliced or diced\n",
            "*   1/2 Tomato, thinly sliced\n",
            "*   A few Cabbage leaves, finely shredded (optional, for crunch)\n",
            "*   1 tablespoon Oil (vegetable or any cooking oil)\n",
            "*   1 tablespoon Butter\n",
            "*   A pinch of Honey (optional, for caramelizing onions)\n",
            "*   Salt and Pepper to taste\n",
            "\n",
            "**Equipment:**\n",
            "\n",
            "*   Large skillet or frying pan\n",
            "*   Spatula\n",
            "\n",
            "**Step-by-Step Cooking Procedure:**\n",
            "\n",
            "1.  **Prepare Your Ingredients:**\n",
            "    *   If using meat that's not ground, finely chop or mince it so it cooks quickly. If using fish, cut it into small, bite-sized pieces.\n",
            "    *   Slice the onion thinly, slice the tomato, and finely shred the cabbage (if using).\n",
            "    *   Have your cheese slices ready.\n",
            "\n",
            "2.  **Cook the Meat/Fish & Onion:**\n",
            "    *   Place a large skillet or frying pan over medium-high heat. Add 1 tablespoon of **oil** and 1 tablespoon of **butter**.\n",
            "    *   Add the **sliced or diced onion** to the pan. Sauté for 3-5 minutes until softened and translucent. If you like a hint of sweetness, add a tiny pinch of **honey** to the onions and stir until they start to caramelize slightly (about 1-2 more minutes).\n",
            "    *   Add your **meat** (or **fish**) to the pan with the onions. Break up any clumps of meat. Cook, stirring occasionally, until the meat is browned all over and cooked through, or the fish flakes easily (about 5-7 minutes). Season with **salt** and **pepper** while cooking.\n",
            "\n",
            "3.  **Incorporate Egg & Veggies:**\n",
            "    *   Once the meat/fish is cooked, push it to one side of the pan. Crack the **egg** into the empty side of the pan. You can either scramble it in with the meat/fish mixture, or cook it separately as a fried egg to place on top. For simplicity, let's scramble it in: break the yolk and stir it into the meat/fish and onion mixture until the egg is cooked through and combined.\n",
            "    *   Now, add the **shredded cabbage** (if using) to the pan and toss with the mixture for about a minute until slightly softened.\n",
            "\n",
            "4.  **Assemble the Melts:**\n",
            "    *   Carefully spoon half of the warm meat/fish and veggie mixture onto the bottom half of each **bun**.\n",
            "    *   Place one slice of **cheese** over the mixture on each bun.\n",
            "\n",
            "5.  **Melt the Cheese (and Toast Buns):**\n",
            "    *   You have a few options:\n",
            "        *   **Option A (Pan Melt):** Place the assembled bottom bun with the topping back into the warm skillet (you might need to do one at a time if your pan isn't big enough). Cover the pan with a lid (or foil) for 1-2 minutes until the cheese is melted and gooey.\n",
            "        *   **Option B (Toaster/Oven Melt):** Place the assembled bottom bun on a baking sheet and put it under a preheated broiler (grill) or in a toaster oven for 1-3 minutes until the cheese is bubbly and melted. Be careful not to burn the bun!\n",
            "    *   While the cheese is melting, you can lightly toast the top halves of the buns in the same pan or toaster if you like.\n",
            "\n",
            "6.  **Final Touches & Serve:**\n",
            "    *   Once the cheese is perfectly melted, place a few slices of fresh **tomato** on top of the melted cheese. Add the top half of the bun.\n",
            "    *   Serve your Cheesy Meat & Veggie Melts immediately and enjoy your delicious creation!\n",
            "\n",
            "---\n",
            "\n",
            "Enjoy your homemade, mouth-watering dishes! Happy cooking!\n"
          ]
        }
      ]
    }
  ]
}