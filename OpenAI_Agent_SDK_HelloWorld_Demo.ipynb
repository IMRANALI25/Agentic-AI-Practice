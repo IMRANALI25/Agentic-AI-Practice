{
  "nbformat": 4,
  "nbformat_minor": 0,
  "metadata": {
    "colab": {
      "provenance": [],
      "authorship_tag": "ABX9TyMd/8ZNwtXFSUL7xicaNUZF",
      "include_colab_link": true
    },
    "kernelspec": {
      "name": "python3",
      "display_name": "Python 3"
    },
    "language_info": {
      "name": "python"
    }
  },
  "cells": [
    {
      "cell_type": "markdown",
      "metadata": {
        "id": "view-in-github",
        "colab_type": "text"
      },
      "source": [
        "<a href=\"https://colab.research.google.com/github/IMRANALI25/Agentic-AI-Practice/blob/main/OpenAI_Agent_SDK_HelloWorld_Demo.ipynb\" target=\"_parent\"><img src=\"https://colab.research.google.com/assets/colab-badge.svg\" alt=\"Open In Colab\"/></a>"
      ]
    },
    {
      "cell_type": "markdown",
      "source": [
        "##🚀 Exploring the openai-agents Library with Gemini\n"
      ],
      "metadata": {
        "id": "9-RZZISG9tJa"
      }
    },
    {
      "cell_type": "markdown",
      "source": [
        "#📦 installation\n"
      ],
      "metadata": {
        "id": "JZw8WsUJ93CS"
      }
    },
    {
      "cell_type": "code",
      "source": [
        "!pip install -Uq openai-agents"
      ],
      "metadata": {
        "colab": {
          "base_uri": "https://localhost:8080/"
        },
        "id": "nPbBNS6z9u7v",
        "outputId": "698a45aa-b6f9-4dc7-b08d-1a8559b0143a"
      },
      "execution_count": null,
      "outputs": [
        {
          "output_type": "stream",
          "name": "stdout",
          "text": [
            "\u001b[2K     \u001b[90m━━━━━━━━━━━━━━━━━━━━━━━━━━━━━━━━━━━━━━━━\u001b[0m \u001b[32m61.0/61.0 kB\u001b[0m \u001b[31m4.5 MB/s\u001b[0m eta \u001b[36m0:00:00\u001b[0m\n",
            "\u001b[2K   \u001b[90m━━━━━━━━━━━━━━━━━━━━━━━━━━━━━━━━━━━━━━━━\u001b[0m \u001b[32m164.3/164.3 kB\u001b[0m \u001b[31m12.3 MB/s\u001b[0m eta \u001b[36m0:00:00\u001b[0m\n",
            "\u001b[2K   \u001b[90m━━━━━━━━━━━━━━━━━━━━━━━━━━━━━━━━━━━━━━━━\u001b[0m \u001b[32m137.1/137.1 kB\u001b[0m \u001b[31m11.0 MB/s\u001b[0m eta \u001b[36m0:00:00\u001b[0m\n",
            "\u001b[2K   \u001b[90m━━━━━━━━━━━━━━━━━━━━━━━━━━━━━━━━━━━━━━━━\u001b[0m \u001b[32m158.8/158.8 kB\u001b[0m \u001b[31m13.5 MB/s\u001b[0m eta \u001b[36m0:00:00\u001b[0m\n",
            "\u001b[2K   \u001b[90m━━━━━━━━━━━━━━━━━━━━━━━━━━━━━━━━━━━━━━━━\u001b[0m \u001b[32m45.2/45.2 kB\u001b[0m \u001b[31m3.4 MB/s\u001b[0m eta \u001b[36m0:00:00\u001b[0m\n",
            "\u001b[?25h"
          ]
        }
      ]
    },
    {
      "cell_type": "markdown",
      "source": [
        "#📦 Imports Libraries if using Google Colab\n",
        "## Make your Jupyter Notebook capable of running asynchronous functions."
      ],
      "metadata": {
        "id": "Edk9I620-LG4"
      }
    },
    {
      "cell_type": "code",
      "source": [
        "import nest_asyncio\n",
        "nest_asyncio.apply()"
      ],
      "metadata": {
        "id": "7TuSQP26-DhB"
      },
      "execution_count": null,
      "outputs": []
    },
    {
      "cell_type": "markdown",
      "source": [
        "#📦 Imports"
      ],
      "metadata": {
        "id": "b5mQcOCR-bto"
      }
    },
    {
      "cell_type": "code",
      "source": [
        "from agents import Agent, Runner, AsyncOpenAI, OpenAIChatCompletionsModel, set_tracing_disabled"
      ],
      "metadata": {
        "id": "9XcnHZmO-apG"
      },
      "execution_count": null,
      "outputs": []
    },
    {
      "cell_type": "markdown",
      "source": [
        "#🔐 Step 1: Setup for Gemini Api Key (Key Name is Case Sensitive)\n",
        "#📦 Import userdata and get value from it"
      ],
      "metadata": {
        "id": "2jAQh_SJ-lhg"
      }
    },
    {
      "cell_type": "code",
      "source": [
        "from google.colab import userdata\n",
        "gemini_api_key = userdata.get(\"GEMINI_API_KEY\")"
      ],
      "metadata": {
        "id": "xrnUPG-o-mi2"
      },
      "execution_count": null,
      "outputs": []
    },
    {
      "cell_type": "markdown",
      "source": [
        "#🌐 Step 2: Client Setup for Connecting to Gemini"
      ],
      "metadata": {
        "id": "kmGsb6Qw_Hwa"
      }
    },
    {
      "cell_type": "markdown",
      "source": [
        "# Disabled Tracing"
      ],
      "metadata": {
        "id": "E421qsRSClvk"
      }
    },
    {
      "cell_type": "code",
      "source": [
        "set_tracing_disabled(disabled=True)"
      ],
      "metadata": {
        "id": "u3agP6mO_JYy"
      },
      "execution_count": null,
      "outputs": []
    },
    {
      "cell_type": "markdown",
      "source": [
        "# Initialize LLM Service"
      ],
      "metadata": {
        "id": "wbNLaTflDLjq"
      }
    },
    {
      "cell_type": "code",
      "source": [
        "external_client: AsyncOpenAI = AsyncOpenAI(\n",
        "    api_key = gemini_api_key,\n",
        "    base_url= \"https://generativelanguage.googleapis.com/v1beta/openai/\",\n",
        ")"
      ],
      "metadata": {
        "id": "1J2-6QHLCjTd"
      },
      "execution_count": null,
      "outputs": []
    },
    {
      "cell_type": "markdown",
      "source": [
        "# Initialize LLM Model"
      ],
      "metadata": {
        "id": "fX3V1n8tEmtZ"
      }
    },
    {
      "cell_type": "code",
      "source": [
        "llm_model: OpenAIChatCompletionsModel = OpenAIChatCompletionsModel(\n",
        "    openai_client= external_client,\n",
        "    model=\"gemini-2.5-flash\",\n",
        ")"
      ],
      "metadata": {
        "id": "SXSdP4YaD635"
      },
      "execution_count": null,
      "outputs": []
    },
    {
      "cell_type": "markdown",
      "source": [
        "# 💬 Step 3 Running Agent Synchronously"
      ],
      "metadata": {
        "id": "2XUn91P3Ft04"
      }
    },
    {
      "cell_type": "code",
      "source": [
        "math_agent: Agent = Agent(name=\"MathAgent\" ,\n",
        "                          instructions=\"Provide solutions for any mathematical problem.\",\n",
        "                          model = llm_model\n",
        "                          )\n",
        "\n",
        "result: Runner = Runner.run_sync(math_agent, \"Mathematics is the core of Computer Science and Engineering. Provide summary of this topic too.\")\n",
        "\n",
        "print(\"\\n**********************Calling Agent*************************\\n\")\n",
        "\n",
        "print(result.final_output)"
      ],
      "metadata": {
        "colab": {
          "base_uri": "https://localhost:8080/"
        },
        "id": "kzAKZw4uFfHU",
        "outputId": "34df0ac4-adac-4fe6-fe26-0d523f8ea3b7"
      },
      "execution_count": null,
      "outputs": [
        {
          "output_type": "stream",
          "name": "stdout",
          "text": [
            "\n",
            "**********************Calling Agent*************************\n",
            "\n",
            "You are absolutely right. Mathematics is not just a foundational subject for Computer Science and Engineering; it is the very language, logic, and toolkit upon which the entire discipline is built and continues to evolve.\n",
            "\n",
            "---\n",
            "\n",
            "### Mathematics: The Core of Computer Science and Engineering\n",
            "\n",
            "Mathematics provides the theoretical underpinnings and the practical tools necessary to design, analyze, understand, and optimize virtually every aspect of computing. It's the bedrock that allows us to move from abstract ideas to concrete, efficient, and reliable systems.\n",
            "\n",
            "Here's how different branches of mathematics are intrinsically woven into the fabric of Computer Science and Engineering:\n",
            "\n",
            "1.  **Discrete Mathematics:** This is arguably the most fundamental branch.\n",
            "    *   **Logic (Boolean Algebra, Predicate Logic):** Forms the basis of digital circuit design (AND, OR, NOT gates), programming constructs (if-else, loops), database queries, and artificial intelligence reasoning systems.\n",
            "    *   **Set Theory:** Used in data structures (sets, maps), database design, and formal specification of systems.\n",
            "    *   **Graph Theory:** Essential for modeling networks (internet, social networks), algorithms (shortest path, minimum spanning tree), data structures (trees, graphs), and optimization problems.\n",
            "    *   **Combinatorics & Probability:** Crucial for analyzing algorithm efficiency, understanding the likelihood of events in systems (e.g., network collisions), designing hash functions, and generating test cases.\n",
            "    *   **Number Theory:** Indispensable for cryptography (RSA, ECC), error-correcting codes, and secure communication.\n",
            "\n",
            "2.  **Linear Algebra:**\n",
            "    *   **Computer Graphics:** Used extensively for transformations (scaling, rotation, translation), projections, 3D modeling, and rendering.\n",
            "    *   **Machine Learning & Artificial Intelligence:** The backbone of many algorithms (neural networks, support vector machines, principal component analysis) which rely heavily on vector and matrix operations.\n",
            "    *   **Data Science:** Data manipulation, dimensionality reduction, and statistical analysis often involve linear algebra concepts.\n",
            "    *   **Image Processing:** Filters, transformations, and compression algorithms use matrix operations.\n",
            "\n",
            "3.  **Calculus and Mathematical Analysis:**\n",
            "    *   **Optimization:** Essential for training machine learning models (gradient descent), resource allocation, and finding the most efficient solutions to problems.\n",
            "    *   **Signal Processing:** Used in audio and video compression, filtering, and analysis.\n",
            "    *   **Simulation:** Modeling continuous systems (physics engines, fluid dynamics) in computer simulations relies on differential equations.\n",
            "    *   **Performance Analysis:** Analyzing the continuous behavior of systems (e.g., network traffic over time).\n",
            "\n",
            "4.  **Probability and Statistics:**\n",
            "    *   **Artificial Intelligence & Machine Learning:** Core for supervised and unsupervised learning, Bayesian inference, natural language processing, and computer vision.\n",
            "    *   **Data Science:** Data analysis, interpretation, predictive modeling, and understanding variability.\n",
            "    *   **Network Performance:** Modeling network traffic, queuing theory, and reliability analysis.\n",
            "    *   **Algorithm Analysis:** Estimating average-case performance and understanding randomness in randomized algorithms.\n",
            "\n",
            "5.  **Numerical Methods:**\n",
            "    *   **Scientific Computing:** Approximating solutions to complex mathematical problems (e.g., solving differential equations, integration, root finding) that cannot be solved analytically.\n",
            "    *   **Simulation & Modeling:** Engineering simulations, weather forecasting, and financial modeling.\n",
            "    *   **Computer Graphics:** Advanced rendering techniques, physics simulations.\n",
            "\n",
            "6.  **Abstract Algebra:**\n",
            "    *   **Cryptography:** Group theory, ring theory, and field theory are fundamental to modern public-key encryption algorithms and digital signatures.\n",
            "    *   **Error-Correcting Codes:** Design of codes that detect and correct errors in data transmission (e.g., Reed-Solomon codes).\n",
            "\n",
            "7.  **Information Theory:**\n",
            "    *   **Data Compression:** Theoretical limits and methods for compressing data (e.g., Huffman coding, Lempel-Ziv).\n",
            "    *   **Communication Protocols:** Design of efficient and reliable communication systems.\n",
            "\n",
            "---\n",
            "\n",
            "### Summary: Mathematics as the Language and Toolkit of Computing\n",
            "\n",
            "Mathematics serves as the **foundational language and the essential toolkit** for Computer Science and Engineering. It provides:\n",
            "1.  **Logical Rigor:** The precise framework for defining problems and proving solutions.\n",
            "2.  **Abstraction:** The ability to model complex real-world phenomena into computable forms.\n",
            "3.  **Algorithmic Thinking:** The principles for designing efficient and effective step-by-step solutions.\n",
            "4.  **Analytical Tools:** Methods to quantify, predict, optimize, and analyze the performance and behavior of computational systems.\n",
            "\n",
            "From the binary logic gates of a processor chip to the complex algorithms driving artificial intelligence, every layer of computing relies on mathematical principles. It's what allows engineers to build robust, secure, and powerful systems, and scientists to push the boundaries of what computers can achieve. Without mathematics, computer science would be merely a collection of isolated techniques, lacking the underlying coherence and theoretical depth that makes it a true scientific and engineering discipline.\n"
          ]
        }
      ]
    },
    {
      "cell_type": "markdown",
      "source": [
        "# 💬 Step 4: Running Agent Asynchronously"
      ],
      "metadata": {
        "id": "2zdsCUx_F_qX"
      }
    },
    {
      "cell_type": "code",
      "source": [
        "import asyncio\n",
        "\n",
        "async def main():\n",
        "  result: Runner = await Runner.run(math_agent, \"Core Applications of Agentic AI. Also, conclude the result\")\n",
        "  print (result.final_output)\n",
        "\n",
        "asyncio.run(main())"
      ],
      "metadata": {
        "colab": {
          "base_uri": "https://localhost:8080/"
        },
        "id": "zZt1qMivGBIP",
        "outputId": "a2912bd0-54a5-4e3b-87eb-f80875780a56"
      },
      "execution_count": null,
      "outputs": [
        {
          "output_type": "stream",
          "name": "stdout",
          "text": [
            "Agentic AI represents a significant evolution beyond traditional AI models, particularly large language models (LLMs). An agentic AI system is not merely a tool that responds to prompts; it's designed to understand a high-level goal, plan a series of steps to achieve it, execute those steps (often by interacting with other tools, APIs, and the real world), monitor its progress, and self-correct when necessary. It possesses a degree of autonomy, memory, and reasoning capabilities that allow it to pursue complex objectives with minimal human intervention.\n",
            "\n",
            "Here are the core applications of Agentic AI:\n",
            "\n",
            "---\n",
            "\n",
            "### Core Applications of Agentic AI\n",
            "\n",
            "1.  **Automated Task Orchestration & Workflow Management:**\n",
            "    *   **Description:** Agentic AI can break down complex business processes or personal tasks into smaller, manageable steps, then execute them sequentially or in parallel. This involves interacting with various software applications, databases, and APIs.\n",
            "    *   **Examples:** Automating entire customer onboarding processes (from data entry to system setup and welcome emails), managing supply chain logistics (optimizing routes, tracking inventory, placing orders), or orchestrating financial transactions across multiple platforms.\n",
            "    *   **Agentic Aspect:** Planning, execution across disparate systems, monitoring progress, handling exceptions.\n",
            "\n",
            "2.  **Personalized Digital Assistants & Proactive Agents:**\n",
            "    *   **Description:** Moving beyond reactive chatbots, agentic AI can serve as a highly personalized and proactive assistant that anticipates needs, makes recommendations, and takes action on behalf of the user.\n",
            "    *   **Examples:** A travel agent AI that books flights, hotels, and itineraries based on preferences and budget, adjusts plans for delays, and suggests activities; a personal finance agent that monitors spending, identifies savings opportunities, and makes investment recommendations; a health coach that adapts exercise and diet plans based on real-time data and goals.\n",
            "    *   **Agentic Aspect:** Goal-driven, proactive behavior, learning from user preferences, interaction with external services (calendars, booking sites).\n",
            "\n",
            "3.  **Automated Software Development & IT Operations (DevOps):**\n",
            "    *   **Description:** Agentic AI can assist or even autonomously handle aspects of the software development lifecycle, from writing code and debugging to testing, deployment, and monitoring.\n",
            "    *   **Examples:** An AI agent that receives a feature request, writes the necessary code, creates unit tests, identifies and fixes bugs, and prepares a pull request; an operations agent that monitors system logs, diagnoses performance issues, automatically scales resources, or even rolls back problematic deployments.\n",
            "    *   **Agentic Aspect:** Planning a development strategy, using tools (IDEs, compilers, test frameworks), debugging, continuous monitoring, and self-remediation.\n",
            "\n",
            "4.  **Advanced Research & Knowledge Discovery:**\n",
            "    *   **Description:** Agentic AI can sift through vast amounts of information, synthesize data from disparate sources, identify patterns, and even formulate hypotheses, significantly accelerating research processes.\n",
            "    *   **Examples:** A scientific research agent that performs comprehensive literature reviews, extracts key data from papers, identifies potential drug targets, and even designs experimental protocols; a market research agent that analyzes consumer trends, competitor strategies, and predicts market shifts.\n",
            "    *   **Agentic Aspect:** Information retrieval, critical analysis, synthesis, hypothesis generation, structured reporting.\n",
            "\n",
            "5.  **Dynamic Customer Service & Sales Agents:**\n",
            "    *   **Description:** Beyond answering FAQs, agentic AI can engage in complex, multi-turn conversations, understand nuanced customer needs, proactively offer solutions, negotiate, and even close sales or resolve intricate support issues.\n",
            "    *   **Examples:** A customer support agent that troubleshoots technical issues, accesses customer accounts, processes returns, and schedules technician visits; a sales agent that identifies qualified leads, delivers personalized pitches, answers objections, and guides prospects through the purchasing funnel.\n",
            "    *   **Agentic Aspect:** Goal-oriented interaction (resolution/sale), context retention, empathy (simulated), integration with CRM and knowledge bases.\n",
            "\n",
            "6.  **Personalized Education & Training:**\n",
            "    *   **Description:** Agentic AI can act as an adaptive tutor or coach, tailoring learning paths, providing immediate feedback, identifying knowledge gaps, and generating custom exercises or explanations based on an individual's progress and learning style.\n",
            "    *   **Examples:** An AI tutor that adapts to a student's pace, explains concepts in multiple ways, generates practice problems based on areas of weakness, and simulates real-world scenarios for skill development.\n",
            "    *   **Agentic Aspect:** Assessing student state, dynamic curriculum planning, adaptive content generation, continuous feedback loop.\n",
            "\n",
            "---\n",
            "\n",
            "### Conclusion\n",
            "\n",
            "The core applications of Agentic AI herald a transformative shift from reactive AI tools to **proactive, goal-driven collaborators**. They promise to automate complex, multi-step processes, personalize digital experiences to an unprecedented degree, and amplify human capabilities across industries.\n",
            "\n",
            "By endowing AI models with the ability to plan, execute, monitor, and adapt, agentic systems move beyond mere information processing to become **autonomous problem-solvers**. While ethical considerations, safety, and oversight remain critical challenges, the trajectory is clear: Agentic AI is poised to become the operating system of the digital future, enabling greater efficiency, innovation, and tailored experiences across virtually every domain. It marks a leap towards truly intelligent agents that don't just *think* but *do*.\n"
          ]
        }
      ]
    },
    {
      "cell_type": "code",
      "source": [],
      "metadata": {
        "id": "L1CqH7P8Wb0K"
      },
      "execution_count": null,
      "outputs": []
    }
  ]
}